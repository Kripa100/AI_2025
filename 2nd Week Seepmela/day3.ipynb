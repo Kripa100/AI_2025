{
  "nbformat": 4,
  "nbformat_minor": 0,
  "metadata": {
    "colab": {
      "provenance": []
    },
    "kernelspec": {
      "name": "python3",
      "display_name": "Python 3"
    },
    "language_info": {
      "name": "python"
    }
  },
  "cells": [
    {
      "cell_type": "markdown",
      "source": [
        "#Probability"
      ],
      "metadata": {
        "id": "p18hIz8I-jBU"
      }
    },
    {
      "cell_type": "markdown",
      "source": [],
      "metadata": {
        "id": "KiD0-noeAOG1"
      }
    },
    {
      "cell_type": "markdown",
      "source": [],
      "metadata": {
        "id": "Dfl11Ke5Jw1w"
      }
    },
    {
      "cell_type": "code",
      "execution_count": null,
      "metadata": {
        "id": "U3sLu0tb-NfR",
        "colab": {
          "base_uri": "https://localhost:8080/"
        },
        "outputId": "eecaacc3-895e-419f-a313-4095c2290070"
      },
      "outputs": [
        {
          "output_type": "stream",
          "name": "stdout",
          "text": [
            "0.16666666666666666\n"
          ]
        }
      ],
      "source": [
        "#diclaring the fav and total outcome for rolling 1 on a die\n",
        "favourable_outcome=1\n",
        "total_outcome=6\n",
        "probability=favourable_outcome/total_outcome\n",
        "print(probability)"
      ]
    },
    {
      "cell_type": "markdown",
      "source": [
        "Experimental probability"
      ],
      "metadata": {
        "id": "kxbGqJuBJ_aD"
      }
    },
    {
      "cell_type": "code",
      "source": [
        "\n",
        "import random\n",
        "trials=100\n",
        "heads=0\n",
        "for _ in range(trials):\n",
        "  if random.choice(['Heads','Tails'])=='Heads':\n",
        "    heads+=1\n",
        "\n",
        "probability=heads/trials\n",
        "print(probability)"
      ],
      "metadata": {
        "colab": {
          "base_uri": "https://localhost:8080/"
        },
        "id": "OO7amieaDXKK",
        "outputId": "b7a0fe85-9e0c-43b0-d7ac-dac0445a83b9"
      },
      "execution_count": null,
      "outputs": [
        {
          "output_type": "stream",
          "name": "stdout",
          "text": [
            "0.58\n"
          ]
        }
      ]
    },
    {
      "cell_type": "markdown",
      "source": [],
      "metadata": {
        "id": "yKDHCoWkLQYX"
      }
    },
    {
      "cell_type": "code",
      "source": [
        "face_card=12\n",
        "kings=4\n",
        "cond_prob=kings/face_card\n",
        "print(\"Probability of getting a king given it is a face card is\",cond_prob)"
      ],
      "metadata": {
        "colab": {
          "base_uri": "https://localhost:8080/"
        },
        "id": "8wf2bJ8lEMr2",
        "outputId": "40293fc5-0843-4a9a-ad45-70c4f4817927"
      },
      "execution_count": null,
      "outputs": [
        {
          "output_type": "stream",
          "name": "stdout",
          "text": [
            "Probability of getting a king given it is a face card is 0.3333333333333333\n"
          ]
        }
      ]
    },
    {
      "cell_type": "code",
      "source": [],
      "metadata": {
        "id": "n88Gut68FU2i"
      },
      "execution_count": null,
      "outputs": []
    },
    {
      "cell_type": "code",
      "source": [
        "#mutually exclusive events\n",
        "prob_even=3/6\n",
        "prob_one=1/6\n",
        "prob_even_or_one=prob_even+prob_one\n",
        "print(prob_even_or_one)"
      ],
      "metadata": {
        "colab": {
          "base_uri": "https://localhost:8080/"
        },
        "id": "BXyrWGzYEkxu",
        "outputId": "45c9106c-89be-4556-c77f-f7d43cf47a26"
      },
      "execution_count": null,
      "outputs": [
        {
          "output_type": "stream",
          "name": "stdout",
          "text": [
            "0.6666666666666666\n"
          ]
        }
      ]
    },
    {
      "cell_type": "code",
      "source": [
        "# Note: For independent events, the probability of both occurring is the product of their probabilities.\n",
        "prob_head=0.5\n",
        "prob_two_heads=prob_head*prob_head\n",
        "print(prob_two_heads)\n"
      ],
      "metadata": {
        "colab": {
          "base_uri": "https://localhost:8080/"
        },
        "id": "5RpDeT0WFdxl",
        "outputId": "837f8818-1118-4528-e138-b34d5c1fb0a0"
      },
      "execution_count": null,
      "outputs": [
        {
          "output_type": "stream",
          "name": "stdout",
          "text": [
            "0.25\n"
          ]
        }
      ]
    },
    {
      "cell_type": "code",
      "source": [
        "total_cards=52\n",
        "ace_cards=4\n",
        "prob_first_ace=ace_cards/total_cards\n",
        "prob_second_ace=(ace_cards-1)/(total_cards-1)\n",
        "prob_two_aces=prob_first_ace*prob_second_ace\n",
        "print(prob_two_aces)\n",
        "\n"
      ],
      "metadata": {
        "colab": {
          "base_uri": "https://localhost:8080/"
        },
        "id": "RnaBbUmvF_RX",
        "outputId": "d697e16b-60ec-47b3-e6cb-08a17d8fbc8c"
      },
      "execution_count": null,
      "outputs": [
        {
          "output_type": "stream",
          "name": "stdout",
          "text": [
            "0.004524886877828055\n"
          ]
        }
      ]
    },
    {
      "cell_type": "code",
      "source": [
        "# A standard deck has 52 cards. There are 12 face cards (Jack, Queen, King – 4 of each).\n",
        "# What is the probability that a card is a King given that it’s a face card?\n",
        "total_card=52\n",
        "prob_of_face=12\n",
        "prob_of_king=4\n",
        "prob_king=prob_of_king/prob_of_face\n",
        "print(prob_king)"
      ],
      "metadata": {
        "colab": {
          "base_uri": "https://localhost:8080/"
        },
        "id": "_t0HOy4OG_XZ",
        "outputId": "7e08bfbd-86cc-482f-f95d-8649257d4dcc"
      },
      "execution_count": null,
      "outputs": [
        {
          "output_type": "stream",
          "name": "stdout",
          "text": [
            "0.3333333333333333\n"
          ]
        }
      ]
    },
    {
      "cell_type": "code",
      "source": [
        "# Out of 100 days, it rained on 30 days.\n",
        "# On 25 of those rainy days, a person carried an umbrella.\n",
        "# What is the probability that they carried an umbrella given that it was raining?\n",
        "total_days=100\n",
        "prob_rain=30\n",
        "prob_umbrella=25\n",
        "prob_umbrella=prob_umbrella/prob_rain\n",
        "print(prob_umbrella)"
      ],
      "metadata": {
        "colab": {
          "base_uri": "https://localhost:8080/"
        },
        "id": "gYaP9e7oHtMp",
        "outputId": "8f2d2517-c671-4a71-9bfc-f27b1bb10fd1"
      },
      "execution_count": null,
      "outputs": [
        {
          "output_type": "stream",
          "name": "stdout",
          "text": [
            "0.8333333333333334\n"
          ]
        }
      ]
    },
    {
      "cell_type": "code",
      "source": [
        "# Out of 80 students, 50 studied for the exam.\n",
        "# Out of those 50, 45 passed.\n",
        "# What is the probability a student passed given that they studied?\n",
        "total_student=80\n",
        "prob_exam=50\n",
        "prob_pass=45\n",
        "prob_pass=prob_pass/prob_exam\n",
        "print(prob_pass)\n"
      ],
      "metadata": {
        "colab": {
          "base_uri": "https://localhost:8080/"
        },
        "id": "VbfnhcQJH-wq",
        "outputId": "22b8c539-06ee-4444-b53a-7f97be4d9210"
      },
      "execution_count": null,
      "outputs": [
        {
          "output_type": "stream",
          "name": "stdout",
          "text": [
            "0.9\n"
          ]
        }
      ]
    },
    {
      "cell_type": "code",
      "source": [
        "# Task 1: Calculate the theoretical probability of drawing a red card from a\n",
        "# standard deck of 52 cards (26 red cards). Print the result.\n",
        "total_card=52\n",
        "red_card=26\n",
        "prob_red=red_card/total_card\n",
        "print(prob_red)"
      ],
      "metadata": {
        "colab": {
          "base_uri": "https://localhost:8080/"
        },
        "id": "_5nlGDElI0Yv",
        "outputId": "5149215e-8dfb-4786-e0bf-e05f0395e6cc"
      },
      "execution_count": null,
      "outputs": [
        {
          "output_type": "stream",
          "name": "stdout",
          "text": [
            "0.5\n"
          ]
        }
      ]
    },
    {
      "cell_type": "code",
      "source": [
        "# Task 4: Calculate the probability of drawing a heart or a club from a deck (13\n",
        "# hearts, 13 clubs, mutually exclusive). Print the result.\n",
        "total_card=52\n",
        "heart=13\n",
        "club=13\n",
        "prob=heart/total_card+club/total_card\n",
        "print(prob)"
      ],
      "metadata": {
        "colab": {
          "base_uri": "https://localhost:8080/"
        },
        "id": "mC_KGXwFJZsL",
        "outputId": "4e065c98-6c8d-4b43-e9d6-1488fd0b5615"
      },
      "execution_count": null,
      "outputs": [
        {
          "output_type": "stream",
          "name": "stdout",
          "text": [
            "0.5\n"
          ]
        }
      ]
    },
    {
      "cell_type": "code",
      "source": [
        "# Task 5: Calculate the probability of rolling a 6 twice in a row with a six-sided\n",
        "# die. Print the result.\n",
        "# Question: What is the probability of getting head on a coin toss and 7 on a 6-sided die roll?\n",
        "total_outcome=6\n",
        "favourable_outcome=1\n",
        "prob=(favourable_outcome/total_outcome)*(favourable_outcome/total_outcome)\n",
        "print(prob)"
      ],
      "metadata": {
        "colab": {
          "base_uri": "https://localhost:8080/"
        },
        "id": "40QJ7mD-Mp50",
        "outputId": "17d91435-c0cf-4f59-e659-93d83e662456"
      },
      "execution_count": null,
      "outputs": [
        {
          "output_type": "stream",
          "name": "stdout",
          "text": [
            "0.027777777777777776\n"
          ]
        }
      ]
    },
    {
      "cell_type": "code",
      "source": [],
      "metadata": {
        "id": "jqFreU2GOK_5"
      },
      "execution_count": null,
      "outputs": []
    }
  ]
}