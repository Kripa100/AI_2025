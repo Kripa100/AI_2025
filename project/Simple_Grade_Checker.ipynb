{
  "nbformat": 4,
  "nbformat_minor": 0,
  "metadata": {
    "colab": {
      "provenance": []
    },
    "kernelspec": {
      "name": "python3",
      "display_name": "Python 3"
    },
    "language_info": {
      "name": "python"
    }
  },
  "cells": [
    {
      "cell_type": "markdown",
      "source": [
        " Mini Project: Simple Grade Checker"
      ],
      "metadata": {
        "id": "Km82MEEcTmm_"
      }
    },
    {
      "cell_type": "code",
      "source": [
        "# Simple Grade Checker\n",
        "\n",
        "# Request for score input in float\n",
        "\n",
        "score= float(input(\"Enter your score:\"))\n",
        "\n",
        "#Determination of letter grade according to score with if elif else statement\n",
        "if 90 <= score < 100:\n",
        "    print(\"Grade: A\")\n",
        "elif 80 <= score < 90:\n",
        "    print(\"Grade: B\")\n",
        "elif 70 <= score < 80:\n",
        "    print(\"Grade: C\")\n",
        "elif 60 <= score < 70:\n",
        "    print(\"Grade: D\")\n",
        "elif 0 <= score < 60:\n",
        "    print(\"Grade: F\")     #F=Ng\n",
        "elif score == 100:\n",
        "  # Display the result\n",
        "    print(\"Grade: A( score!)\")\n"
      ],
      "metadata": {
        "colab": {
          "base_uri": "https://localhost:8080/"
        },
        "id": "CdogeMybdOMF",
        "outputId": "202e4c49-a912-458e-c856-81d53fb4824a"
      },
      "execution_count": null,
      "outputs": [
        {
          "name": "stdout",
          "output_type": "stream",
          "text": [
            "Enter your score:101\n"
          ]
        }
      ]
    },
    {
      "cell_type": "markdown",
      "source": [],
      "metadata": {
        "id": "tUQ6iJl_acpP"
      }
    }
  ]
}